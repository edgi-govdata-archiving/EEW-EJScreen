{
 "cells": [
  {
   "cell_type": "markdown",
   "metadata": {},
   "source": [
    "This next cell will build census.db from the downloaded block group zip files for each state."
   ]
  },
  {
   "cell_type": "code",
   "execution_count": 8,
   "metadata": {},
   "outputs": [
    {
     "name": "stdout",
     "output_type": "stream",
     "text": [
      "Files and directories in path: /media/karen/PNY/BG2010/\n",
      "1 - Unzipped tl_2010_60_bg10.zip\n",
      "2 - Unzipped tl_2010_66_bg10.zip\n",
      "3 - Unzipped tl_2010_69_bg10.zip\n",
      "4 - Unzipped tl_2010_72_bg10.zip\n",
      "5 - Unzipped tl_2010_78_bg10.zip\n",
      "6 - Unzipped tl_2010_54_bg10.zip\n",
      "7 - Unzipped tl_2010_55_bg10.zip\n",
      "8 - Unzipped tl_2010_56_bg10.zip\n",
      "9 - Unzipped tl_2010_53_bg10.zip\n",
      "10 - Unzipped tl_2010_51_bg10.zip\n",
      "11 - Unzipped tl_2010_50_bg10.zip\n",
      "12 - Unzipped tl_2010_49_bg10.zip\n",
      "13 - Unzipped tl_2010_48_bg10.zip\n",
      "14 - Unzipped tl_2010_47_bg10.zip\n",
      "15 - Unzipped tl_2010_46_bg10.zip\n",
      "16 - Unzipped tl_2010_45_bg10.zip\n",
      "17 - Unzipped tl_2010_44_bg10.zip\n",
      "18 - Unzipped tl_2010_42_bg10.zip\n",
      "19 - Unzipped tl_2010_41_bg10.zip\n",
      "20 - Unzipped tl_2010_40_bg10.zip\n",
      "21 - Unzipped tl_2010_39_bg10.zip\n",
      "22 - Unzipped tl_2010_38_bg10.zip\n",
      "23 - Unzipped tl_2010_37_bg10.zip\n",
      "24 - Unzipped tl_2010_36_bg10.zip\n",
      "25 - Unzipped tl_2010_35_bg10.zip\n",
      "26 - Unzipped tl_2010_34_bg10.zip\n",
      "27 - Unzipped tl_2010_33_bg10.zip\n",
      "28 - Unzipped tl_2010_32_bg10.zip\n",
      "29 - Unzipped tl_2010_31_bg10.zip\n",
      "30 - Unzipped tl_2010_30_bg10.zip\n",
      "31 - Unzipped tl_2010_29_bg10.zip\n",
      "32 - Unzipped tl_2010_28_bg10.zip\n",
      "33 - Unzipped tl_2010_27_bg10.zip\n",
      "34 - Unzipped tl_2010_26_bg10.zip\n",
      "35 - Unzipped tl_2010_25_bg10.zip\n",
      "36 - Unzipped tl_2010_24_bg10.zip\n",
      "37 - Unzipped tl_2010_23_bg10.zip\n",
      "38 - Unzipped tl_2010_22_bg10.zip\n",
      "39 - Unzipped tl_2010_21_bg10.zip\n",
      "40 - Unzipped tl_2010_20_bg10.zip\n",
      "41 - Unzipped tl_2010_19_bg10.zip\n",
      "42 - Unzipped tl_2010_18_bg10.zip\n",
      "43 - Unzipped tl_2010_17_bg10.zip\n",
      "44 - Unzipped tl_2010_16_bg10.zip\n",
      "45 - Unzipped tl_2010_15_bg10.zip\n",
      "46 - Unzipped tl_2010_13_bg10.zip\n",
      "47 - Unzipped tl_2010_12_bg10.zip\n",
      "48 - Unzipped tl_2010_11_bg10.zip\n",
      "49 - Unzipped tl_2010_10_bg10.zip\n",
      "50 - Unzipped tl_2010_09_bg10.zip\n",
      "51 - Unzipped tl_2010_08_bg10.zip\n",
      "52 - Unzipped tl_2010_06_bg10.zip\n",
      "53 - Unzipped tl_2010_05_bg10.zip\n",
      "54 - Unzipped tl_2010_04_bg10.zip\n",
      "55 - Unzipped tl_2010_02_bg10.zip\n",
      "56 - Unzipped tl_2010_01_bg10.zip\n"
     ]
    }
   ],
   "source": [
    "import geopandas as gpd\n",
    "import os\n",
    "import sqlite3\n",
    "import zipfile\n",
    "import pdb\n",
    "\n",
    "path_of_the_directory= '/media/karen/PNY/BG2010/'\n",
    "\n",
    "local_path = os.getcwd() + \"/tmp/\"\n",
    "conn = sqlite3.connect('census2010.db')\n",
    "sql = f'Create table if not Exists census_block_groups (GEOID int, INTPTLAT real, INTPTLON real)'\n",
    "conn.execute(sql)\n",
    "\n",
    "sql = 'delete from census_block_groups'\n",
    "conn.execute(sql)\n",
    "\n",
    "print(\"Files and directories in path: {}\".format(path_of_the_directory))\n",
    "sql_base = \"insert into census_block_groups (GEOID, INTPTLAT, INTPTLON) values ({}, {}, {})\"\n",
    "i = 0\n",
    "for filename in os.listdir(path_of_the_directory):\n",
    "    f = os.path.join(path_of_the_directory,filename)\n",
    "    if os.path.isfile(f):\n",
    "        z = zipfile.ZipFile(f)\n",
    "        i += 1\n",
    "        print(\"{} - Unzipped {}\".format(str(i), filename))\n",
    "        z.extractall(local_path) # extract to folder\n",
    "        shp = [y for y in sorted(z.namelist()) \n",
    "                     for ending in ['shp',] if y.endswith(ending)][0]\n",
    "        state = gpd.read_file(local_path + shp)\n",
    "        # state.drop(['STATEFP','COUNTYFP','TRACTCE','BLKGRPCE','NAMELSAD','MTFCC','FUNCSTAT','ALAND','AWATER'])\n",
    "        for idx, row in state.iterrows():\n",
    "            sql = sql_base.format(row['GEOID10'], row['INTPTLAT10'], row['INTPTLON10'])\n",
    "            conn.execute(sql)\n",
    "        for tmp_file in os.listdir(local_path):\n",
    "            os.remove(os.path.join(local_path,tmp_file))\n",
    "conn.commit()\n",
    "conn.close()            \n",
    "        "
   ]
  },
  {
   "cell_type": "code",
   "execution_count": 6,
   "metadata": {},
   "outputs": [
    {
     "data": {
      "text/plain": [
       "STATEFP10                                                    60\n",
       "COUNTYFP10                                                  010\n",
       "TRACTCE10                                                950900\n",
       "BLKGRPCE10                                                    4\n",
       "GEOID10                                            600109509004\n",
       "NAMELSAD10                                        Block Group 4\n",
       "MTFCC10                                                   G5030\n",
       "FUNCSTAT10                                                    S\n",
       "ALAND10                                                 2590454\n",
       "AWATER10                                                9361074\n",
       "INTPTLAT10                                          -14.2999683\n",
       "INTPTLON10                                         -170.6800963\n",
       "geometry      POLYGON ((-170.674551 -14.322123, -170.677803 ...\n",
       "Name: 0, dtype: object"
      ]
     },
     "execution_count": 6,
     "metadata": {},
     "output_type": "execute_result"
    }
   ],
   "source": [
    "row"
   ]
  },
  {
   "cell_type": "code",
   "execution_count": 1,
   "metadata": {},
   "outputs": [],
   "source": [
    "import geopandas as gpd\n",
    "import requests\n",
    "import zipfile\n",
    "import io\n",
    "import matplotlib.pyplot as plt\n",
    "%matplotlib inline "
   ]
  },
  {
   "cell_type": "code",
   "execution_count": 2,
   "metadata": {},
   "outputs": [
    {
     "name": "stdout",
     "output_type": "stream",
     "text": [
      "Done\n",
      "['tl_2021_56_bg.dbf', 'tl_2021_56_bg.prj', 'tl_2021_56_bg.shp', 'tl_2021_56_bg.shx']\n"
     ]
    }
   ],
   "source": [
    "state_name = 'Wyoming'\n",
    "state_code = 56\n",
    "zip = '/media/karen/PNY/BG/tl_2021_{}_bg.zip'.format(str(state_code))\n",
    "local_path = 'tmp/'\n",
    "z = zipfile.ZipFile(zip)\n",
    "print(\"Done\")\n",
    "z.extractall('tmp') # extract to folder\n",
    "filenames = [y for y in sorted(z.namelist()) for ending in ['dbf', 'prj', 'shp', 'shx'] if y.endswith(ending)] \n",
    "print(filenames)\n"
   ]
  },
  {
   "cell_type": "code",
   "execution_count": 3,
   "metadata": {},
   "outputs": [
    {
     "name": "stdout",
     "output_type": "stream",
     "text": [
      "Shape of the dataframe: (457, 13)\n",
      "Projection of dataframe: epsg:4269\n"
     ]
    },
    {
     "data": {
      "text/html": [
       "<div>\n",
       "<style scoped>\n",
       "    .dataframe tbody tr th:only-of-type {\n",
       "        vertical-align: middle;\n",
       "    }\n",
       "\n",
       "    .dataframe tbody tr th {\n",
       "        vertical-align: top;\n",
       "    }\n",
       "\n",
       "    .dataframe thead th {\n",
       "        text-align: right;\n",
       "    }\n",
       "</style>\n",
       "<table border=\"1\" class=\"dataframe\">\n",
       "  <thead>\n",
       "    <tr style=\"text-align: right;\">\n",
       "      <th></th>\n",
       "      <th>STATEFP</th>\n",
       "      <th>COUNTYFP</th>\n",
       "      <th>TRACTCE</th>\n",
       "      <th>BLKGRPCE</th>\n",
       "      <th>GEOID</th>\n",
       "      <th>NAMELSAD</th>\n",
       "      <th>MTFCC</th>\n",
       "      <th>FUNCSTAT</th>\n",
       "      <th>ALAND</th>\n",
       "      <th>AWATER</th>\n",
       "      <th>INTPTLAT</th>\n",
       "      <th>INTPTLON</th>\n",
       "      <th>geometry</th>\n",
       "    </tr>\n",
       "  </thead>\n",
       "  <tbody>\n",
       "    <tr>\n",
       "      <th>452</th>\n",
       "      <td>56</td>\n",
       "      <td>001</td>\n",
       "      <td>963600</td>\n",
       "      <td>2</td>\n",
       "      <td>560019636002</td>\n",
       "      <td>Block Group 2</td>\n",
       "      <td>G5030</td>\n",
       "      <td>S</td>\n",
       "      <td>346755</td>\n",
       "      <td>0</td>\n",
       "      <td>+41.3088832</td>\n",
       "      <td>-105.5819473</td>\n",
       "      <td>POLYGON ((-105.58611 41.30685, -105.58604 41.3...</td>\n",
       "    </tr>\n",
       "    <tr>\n",
       "      <th>453</th>\n",
       "      <td>56</td>\n",
       "      <td>001</td>\n",
       "      <td>962900</td>\n",
       "      <td>2</td>\n",
       "      <td>560019629002</td>\n",
       "      <td>Block Group 2</td>\n",
       "      <td>G5030</td>\n",
       "      <td>S</td>\n",
       "      <td>2429373</td>\n",
       "      <td>0</td>\n",
       "      <td>+41.3143129</td>\n",
       "      <td>-105.6013696</td>\n",
       "      <td>POLYGON ((-105.60845 41.30114, -105.60835 41.3...</td>\n",
       "    </tr>\n",
       "    <tr>\n",
       "      <th>454</th>\n",
       "      <td>56</td>\n",
       "      <td>001</td>\n",
       "      <td>963000</td>\n",
       "      <td>1</td>\n",
       "      <td>560019630001</td>\n",
       "      <td>Block Group 1</td>\n",
       "      <td>G5030</td>\n",
       "      <td>S</td>\n",
       "      <td>960434</td>\n",
       "      <td>25626</td>\n",
       "      <td>+41.3220268</td>\n",
       "      <td>-105.5896954</td>\n",
       "      <td>POLYGON ((-105.59619 41.31518, -105.59614 41.3...</td>\n",
       "    </tr>\n",
       "    <tr>\n",
       "      <th>455</th>\n",
       "      <td>56</td>\n",
       "      <td>001</td>\n",
       "      <td>963000</td>\n",
       "      <td>2</td>\n",
       "      <td>560019630002</td>\n",
       "      <td>Block Group 2</td>\n",
       "      <td>G5030</td>\n",
       "      <td>S</td>\n",
       "      <td>7994598</td>\n",
       "      <td>0</td>\n",
       "      <td>+41.3513428</td>\n",
       "      <td>-105.5808293</td>\n",
       "      <td>POLYGON ((-105.59889 41.34544, -105.59879 41.3...</td>\n",
       "    </tr>\n",
       "    <tr>\n",
       "      <th>456</th>\n",
       "      <td>56</td>\n",
       "      <td>001</td>\n",
       "      <td>962800</td>\n",
       "      <td>2</td>\n",
       "      <td>560019628002</td>\n",
       "      <td>Block Group 2</td>\n",
       "      <td>G5030</td>\n",
       "      <td>S</td>\n",
       "      <td>792329</td>\n",
       "      <td>0</td>\n",
       "      <td>+41.3061228</td>\n",
       "      <td>-105.6229178</td>\n",
       "      <td>POLYGON ((-105.63473 41.30606, -105.63452 41.3...</td>\n",
       "    </tr>\n",
       "  </tbody>\n",
       "</table>\n",
       "</div>"
      ],
      "text/plain": [
       "    STATEFP COUNTYFP TRACTCE BLKGRPCE         GEOID       NAMELSAD  MTFCC  \\\n",
       "452      56      001  963600        2  560019636002  Block Group 2  G5030   \n",
       "453      56      001  962900        2  560019629002  Block Group 2  G5030   \n",
       "454      56      001  963000        1  560019630001  Block Group 1  G5030   \n",
       "455      56      001  963000        2  560019630002  Block Group 2  G5030   \n",
       "456      56      001  962800        2  560019628002  Block Group 2  G5030   \n",
       "\n",
       "    FUNCSTAT    ALAND  AWATER     INTPTLAT      INTPTLON  \\\n",
       "452        S   346755       0  +41.3088832  -105.5819473   \n",
       "453        S  2429373       0  +41.3143129  -105.6013696   \n",
       "454        S   960434   25626  +41.3220268  -105.5896954   \n",
       "455        S  7994598       0  +41.3513428  -105.5808293   \n",
       "456        S   792329       0  +41.3061228  -105.6229178   \n",
       "\n",
       "                                              geometry  \n",
       "452  POLYGON ((-105.58611 41.30685, -105.58604 41.3...  \n",
       "453  POLYGON ((-105.60845 41.30114, -105.60835 41.3...  \n",
       "454  POLYGON ((-105.59619 41.31518, -105.59614 41.3...  \n",
       "455  POLYGON ((-105.59889 41.34544, -105.59879 41.3...  \n",
       "456  POLYGON ((-105.63473 41.30606, -105.63452 41.3...  "
      ]
     },
     "execution_count": 3,
     "metadata": {},
     "output_type": "execute_result"
    }
   ],
   "source": [
    "dbf, prj, shp, shx = [filename for filename in filenames]\n",
    "state = gpd.read_file(local_path + shp)\n",
    "# state.drop(['STATEFP','COUNTYFP','TRACTCE','BLKGRPCE','NAMELSAD','MTFCC','FUNCSTAT','ALAND','AWATER','geometry'],\n",
    "#           axis='columns',inplace=True)\n",
    "print(\"Shape of the dataframe: {}\".format(state.shape))\n",
    "print(\"Projection of dataframe: {}\".format(state.crs))\n",
    "state.tail() #last 5 records in dataframe"
   ]
  },
  {
   "cell_type": "code",
   "execution_count": null,
   "metadata": {
    "scrolled": true
   },
   "outputs": [],
   "source": [
    "import sqlite3\n",
    "\n",
    "with sqlite3.connect('census.db') as conn:\n",
    "    conn.enable_load_extension(True)\n",
    "    #mod_spatialite (recommended)\n",
    "    conn.load_extension(\"/usr/lib/x86_64-linux-gnu/mod_spatialite\")\n",
    "    # conn.execute('SELECT load_extension(\"/usr/lib/x86_64-linux-gnu/mod_spatialite\")')   \n",
    "    conn.execute(\"SELECT InitSpatialMetaData(1);\")\n",
    "    conn.execute(\n",
    "        \"\"\"\n",
    "        SELECT AddGeometryColumn('census_block_groups', 'geometry', 4269, 'POLYGON', 2);\n",
    "        \"\"\"\n",
    "    )"
   ]
  },
  {
   "cell_type": "code",
   "execution_count": null,
   "metadata": {},
   "outputs": [],
   "source": [
    "import sqlite3\n",
    "conn = sqlite3.connect('census.db')\n",
    "table_name = 'census_block_groups'\n",
    "query = f'Create table if not Exists {table_name} (GEOID int, INTPTLAT real, INTPTLON real)'\n",
    "conn.execute(query)\n",
    "state.to_sql(table_name,conn,if_exists='replace',index=False)\n",
    "conn.commit()\n",
    "conn.close()"
   ]
  },
  {
   "cell_type": "code",
   "execution_count": null,
   "metadata": {
    "scrolled": true
   },
   "outputs": [],
   "source": [
    "ax = state.plot(figsize=(20,20), column='ALAND', cmap=\"tab20b\", scheme='quantiles', legend=True)\n",
    "ax.set(xticks=[], yticks=[]) #removes axes\n",
    "ax.set_title(\"Census block groups by Land Area - {}\".format(state_name), fontsize='large')\n",
    "#add the legend and specify its location\n",
    "leg = ax.get_legend()\n",
    "leg.set_bbox_to_anchor((0.5,0.3))\n",
    "# plt.savefig(\"CO_census_groups.png\", bbox_inches='tight')"
   ]
  },
  {
   "cell_type": "markdown",
   "metadata": {},
   "source": [
    "Use the concepts from the next block to find the census blocks within a CD, and then get the EJSCREEN records for those census blocks.\n",
    "'map' will be the map of the CD\n",
    "'points' will be the census block's INTPTLAT and INTPTLON for all blocks in the state\n",
    "'within_points' will then be those census blocks within the CD\n",
    "We want the census block's GEOID associated with the 'points' record so we can get the EJSCREEN records for the census blocks.\n",
    "We can also map the census blocks as done for the state in previous cells, and color code the census blocks by their EJSCREEN metrics."
   ]
  },
  {
   "cell_type": "markdown",
   "metadata": {},
   "source": [
    "https://gis.stackexchange.com/questions/346550/accelerating-geopandas-for-selecting-points-inside-polygon"
   ]
  },
  {
   "cell_type": "code",
   "execution_count": null,
   "metadata": {},
   "outputs": [],
   "source": [
    "import pandas as pd\n",
    "import geopandas as gpd\n",
    "\n",
    "map = gpd.read_file('foo.shp')\n",
    "\n",
    "df = pd.read_csv('foo1.csv')\n",
    "points = gpd.GeoDataFrame(df, geometry=gpd.points_from_xy(df.longitude, df.latitude))\n",
    "points.crs = {'init': 'epsg:4674'}\n",
    "within_points = gpd.sjoin(points, map, op = 'within')"
   ]
  },
  {
   "cell_type": "markdown",
   "metadata": {},
   "source": [
    "https://www.giacomodebidda.com/posts/export-a-geodataframe-to-spatialite/\n",
    "    Article on saving geopandas polygon to sqlite3"
   ]
  },
  {
   "cell_type": "code",
   "execution_count": null,
   "metadata": {},
   "outputs": [],
   "source": [
    "shp[0]"
   ]
  },
  {
   "cell_type": "code",
   "execution_count": null,
   "metadata": {},
   "outputs": [],
   "source": [
    "conn.commit()\n"
   ]
  },
  {
   "cell_type": "code",
   "execution_count": null,
   "metadata": {},
   "outputs": [],
   "source": [
    "conn.close()\n"
   ]
  },
  {
   "cell_type": "code",
   "execution_count": null,
   "metadata": {},
   "outputs": [],
   "source": []
  }
 ],
 "metadata": {
  "kernelspec": {
   "display_name": "Python 3",
   "language": "python",
   "name": "python3"
  },
  "language_info": {
   "codemirror_mode": {
    "name": "ipython",
    "version": 3
   },
   "file_extension": ".py",
   "mimetype": "text/x-python",
   "name": "python",
   "nbconvert_exporter": "python",
   "pygments_lexer": "ipython3",
   "version": "3.8.5"
  }
 },
 "nbformat": 4,
 "nbformat_minor": 4
}
