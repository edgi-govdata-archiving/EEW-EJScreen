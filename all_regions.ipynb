{
 "cells": [
  {
   "cell_type": "code",
   "execution_count": null,
   "metadata": {},
   "outputs": [],
   "source": [
    "if 'google.colab' in str(get_ipython()):\n",
    "    print('Running on CoLab')\n",
    "    !git clone https://github.com/edgi-govdata-archiving/EEW-EJScreen.git\n",
    "    %mv /content/EEW-EJScreen/ejscreen.db /content\n",
    "else:\n",
    "    print('Not running on CoLab')"
   ]
  },
  {
   "cell_type": "code",
   "execution_count": null,
   "metadata": {},
   "outputs": [],
   "source": [
    "import pandas as pd\n",
    "import sqlite3\n",
    "\n",
    "conn = sqlite3.connect( \"ejscreen.db\" )\n",
    "\n",
    "sql = 'select Name, FIPS_Code, State_Code from states'\n",
    "df0 = pd.read_sql_query(sql, conn)"
   ]
  },
  {
   "cell_type": "code",
   "execution_count": null,
   "metadata": {},
   "outputs": [],
   "source": [
    "select_columns = 'P_LDPNT_D2, P_DSLPM_D2, P_CANCR_D2, P_RESP_D2, P_PTRAF_D2, P_PWDIS_D2, '\n",
    "select_columns += 'P_PNPL_D2, P_PRMP_D2, P_PTSDF_D2, P_OZONE_D2, P_PM25_D2'\n",
    "\n",
    "columns = ['P_LDPNT_D2', 'P_DSLPM_D2', 'P_CANCR_D2', 'P_RESP_D2', 'P_PTRAF_D2', 'P_PWDIS_D2', \n",
    "           'P_PNPL_D2', 'P_PRMP_D2', 'P_PTSDF_D2', 'P_OZONE_D2', 'P_PM25_D2']\n",
    "\n",
    "all_columns = columns.copy()\n",
    "all_columns.insert(0, 'State')\n",
    "all_columns.insert(1, 'CD')\n",
    "\n",
    "df_all = pd.DataFrame(columns=columns)\n",
    "\n",
    "for index, row in df0.iterrows():\n",
    "    state_fips = row['FIPS_Code'].zfill(2)\n",
    "    state = row['State_Code']\n",
    "    \n",
    "    sql = 'select substr(id,6,2) as cd, {} from ejscreen where substr(id,1,2) = \\'{}\\' '\n",
    "    sql = sql.format(select_columns, state_fips)\n",
    "    df = pd.read_sql_query(sql, conn)\n",
    "    # breakpoint()\n",
    "    df[columns] = df[columns].apply(pd.to_numeric)\n",
    "    df1 = df.groupby('cd')\n",
    "    state_dict = {}\n",
    "    for name, group in df1:\n",
    "        # print( '{} - {}'.format(name, group))\n",
    "        # df2 is dataframe of stdevs for each ejscreen index - P_LDPNT_D2, etc.\n",
    "        df2 = df1.get_group(name).std()\n",
    "        df2['State'] = state\n",
    "        df2['CD'] = name\n",
    "        df_all = df_all.append(df2.T,ignore_index=True)\n"
   ]
  },
  {
   "cell_type": "code",
   "execution_count": null,
   "metadata": {},
   "outputs": [],
   "source": [
    "df_all['Lead_Paint.Pct'] = df_all['P_LDPNT_D2'].rank(pct=True)\n",
    "df_all['Diesel.Pct'] = df_all['P_DSLPM_D2'].rank(pct=True)\n",
    "df_all['Air_toxics_cancer.Pct'] = df_all['P_CANCR_D2'].rank(pct=True)\n",
    "df_all['Air_toxics_resp.Pct'] = df_all['P_RESP_D2'].rank(pct=True)\n",
    "df_all['Traffic.Pct'] = df_all['P_PTRAF_D2'].rank(pct=True)\n",
    "df_all['Water_discharge.Pct'] = df_all['P_PWDIS_D2'].rank(pct=True)\n",
    "df_all['NPL_sites.Pct'] = df_all['P_PNPL_D2'].rank(pct=True)\n",
    "df_all['RMP_facilities.Pct'] = df_all['P_PRMP_D2'].rank(pct=True)\n",
    "df_all['TSDF_facilities.Pct'] = df_all['P_PTSDF_D2'].rank(pct=True)\n",
    "df_all['Ozone.Pct'] = df_all['P_OZONE_D2'].rank(pct=True)\n",
    "df_all['PM2.5.Pct'] = df_all['P_PM25_D2'].rank(pct=True)"
   ]
  },
  {
   "cell_type": "code",
   "execution_count": null,
   "metadata": {},
   "outputs": [],
   "source": [
    "df_all.to_csv('ej_screen_cd_stdev_rankings.csv')"
   ]
  },
  {
   "cell_type": "code",
   "execution_count": null,
   "metadata": {},
   "outputs": [],
   "source": [
    "df_all"
   ]
  },
  {
   "cell_type": "code",
   "execution_count": null,
   "metadata": {},
   "outputs": [],
   "source": [
    "df_all['State']"
   ]
  },
  {
   "cell_type": "code",
   "execution_count": null,
   "metadata": {},
   "outputs": [],
   "source": []
  }
 ],
 "metadata": {
  "kernelspec": {
   "display_name": "Python 3",
   "language": "python",
   "name": "python3"
  },
  "language_info": {
   "codemirror_mode": {
    "name": "ipython",
    "version": 3
   },
   "file_extension": ".py",
   "mimetype": "text/x-python",
   "name": "python",
   "nbconvert_exporter": "python",
   "pygments_lexer": "ipython3",
   "version": "3.8.5"
  }
 },
 "nbformat": 4,
 "nbformat_minor": 4
}
