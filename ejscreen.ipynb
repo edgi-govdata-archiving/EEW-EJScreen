{
 "cells": [
  {
   "cell_type": "code",
   "execution_count": null,
   "metadata": {},
   "outputs": [],
   "source": [
    "if 'google.colab' in str(get_ipython()):\n",
    "    print('Running on CoLab')\n",
    "    !git clone https://github.com/edgi-govdata-archiving/EEW-EJScreen.git\n",
    "    %mv /content/EEW-EJScreen/ejscreen.db /content\n",
    "else:\n",
    "    print('Not running on CoLab')"
   ]
  },
  {
   "cell_type": "code",
   "execution_count": null,
   "metadata": {},
   "outputs": [],
   "source": [
    "# Enter the state and CD. Then you can run all.\n",
    "state = 'MA'\n",
    "cd = '07'"
   ]
  },
  {
   "cell_type": "code",
   "execution_count": null,
   "metadata": {},
   "outputs": [],
   "source": [
    "import pandas as pd\n",
    "import sqlite3\n",
    "\n",
    "conn = sqlite3.connect( \"ejscreen.db\" )\n",
    "\n",
    "sql = 'select FIPS_Code from states where State_Code=\\'{}\\''.format(state)\n",
    "df = pd.read_sql_query(sql, conn)\n",
    "state_fips = df['FIPS_Code'][0].zfill(2)\n"
   ]
  },
  {
   "cell_type": "code",
   "execution_count": null,
   "metadata": {},
   "outputs": [],
   "source": [
    "select_columns = 'P_LDPNT_D2, P_DSLPM_D2, P_CANCR_D2, P_RESP_D2, P_PTRAF_D2, P_PWDIS_D2, '\n",
    "select_columns += 'P_PNPL_D2, P_PRMP_D2, P_PTSDF_D2, P_OZONE_D2, P_PM25_D2'\n",
    "\n",
    "sql = 'select {} from ejscreen where substr(id,1,2) = \\'{}\\' and '\n",
    "sql += 'substr(id,6,2) = \\'{}\\''\n",
    "sql = sql.format(select_columns, state_fips,cd)\n",
    "df = pd.read_sql_query(sql, conn)\n",
    "sql\n"
   ]
  },
  {
   "cell_type": "code",
   "execution_count": null,
   "metadata": {},
   "outputs": [],
   "source": [
    "columns = ['P_LDPNT_D2', 'P_DSLPM_D2', 'P_CANCR_D2', 'P_RESP_D2', 'P_PTRAF_D2', 'P_PWDIS_D2', \n",
    "           'P_PNPL_D2', 'P_PRMP_D2', 'P_PTSDF_D2', 'P_OZONE_D2', 'P_PM25_D2']\n",
    "df[columns] = df[columns].apply(pd.to_numeric)\n",
    "means = pd.DataFrame(df.mean())\n",
    "new_columns=['Lead paint', 'Diesel', 'Air toxics cancer', 'Air toxics resp',\n",
    "                                      'Traffic', 'Water discharge', 'NPL sites', 'RMP facilities',\n",
    "                                      'TSDF facilities', 'Ozone', 'PM2.5']\n",
    "means = means.set_axis(new_columns, axis=0)\n",
    "\n",
    "stdev = pd.DataFrame(df.std())\n",
    "stdev = stdev.set_axis(new_columns, axis=0)\n"
   ]
  },
  {
   "cell_type": "code",
   "execution_count": null,
   "metadata": {},
   "outputs": [],
   "source": [
    "df.to_csv('ejscreen-{}{}-percentiles.csv'.format(state, cd))"
   ]
  },
  {
   "cell_type": "code",
   "execution_count": null,
   "metadata": {},
   "outputs": [],
   "source": [
    "df2 = pd.melt(df)\n",
    "df2['value2'] = pd.to_numeric(df2['value'], errors='ignore')\n",
    "df2['bins'] = pd.cut(df2['value2'], bins=[0,5,10,15,20,25,30,35,40,45,50,55,60,65,70,75,80,85,90,95])"
   ]
  },
  {
   "cell_type": "code",
   "execution_count": null,
   "metadata": {},
   "outputs": [],
   "source": [
    "newdf = pd.DataFrame(columns=['metric', 'value', 'count'])\n",
    "for metric in columns:\n",
    "    tempdf = df2[df2['variable'] == metric]\n",
    "    for bin in tempdf['bins'].unique():\n",
    "        try:\n",
    "            midpoint = (bin.left + bin.right)/2\n",
    "            tempdf2 = tempdf[tempdf['bins'] == bin]\n",
    "            count = 2 * tempdf2['value'].count()\n",
    "            new_row = {'metric':metric, 'value':midpoint, 'count':float(count)}\n",
    "            # breakpoint()\n",
    "            newdf = newdf.append(new_row,ignore_index=True)\n",
    "        except AttributeError:\n",
    "            continue\n",
    "newdf       \n",
    "    "
   ]
  },
  {
   "cell_type": "code",
   "execution_count": null,
   "metadata": {
    "scrolled": true
   },
   "outputs": [],
   "source": [
    "import matplotlib.pyplot as plt\n",
    "\n",
    "plt.rcParams[\"figure.figsize\"] = [8, 5]\n",
    "# Set up with a higher resolution screen (useful on Mac)\n",
    "%config InlineBackend.figure_format = 'retina'\n",
    "\n",
    "means.plot(kind='bar', alpha=0., yerr = stdev)\n",
    "# means_plus_stdev.plot(kind='bar', alpha=0.3)\n",
    "plt.scatter(x=newdf['metric'], y=newdf['value'], sizes=newdf['count'],\n",
    "           color='Green')\n",
    "\n",
    "plt.title(\"EJ Screen Index Percentiles for {}, District {}\".format(state,cd))\n",
    "plt.xlabel(\"EJ Screen Categories\")\n",
    "plt.ylabel(\"Census Blocks in National Percentiles\\n and Standard Deviation\")\n",
    "ax = plt.gca()\n",
    "ax.set_xticklabels(labels=new_columns,rotation=60)\n",
    "# plt.ylim(0,100)\n",
    "# plt.axhline(y = 50, color = 'r', linestyle = '-')\n",
    "filename = \"graph-{}-{}.png\".format(state, cd)\n",
    "plt.savefig(filename, bbox_inches=\"tight\")"
   ]
  },
  {
   "cell_type": "code",
   "execution_count": null,
   "metadata": {},
   "outputs": [],
   "source": [
    "xdf = pd.read_csv('ej_screen_cd_stdev_rankings.csv')\n",
    "ydf = xdf[['Lead_Paint.Pct','Diesel.Pct','Air_toxics_cancer.Pct','Air_toxics_resp.Pct',\n",
    "                   'Traffic.Pct','Water_discharge.Pct','NPL_sites.Pct','RMP_facilities.Pct',\n",
    "                  'TSDF_facilities.Pct','Ozone.Pct','PM2.5.Pct','State','CD']]\n",
    "zdf = ydf.loc[ydf['State'] == state]\n",
    "rank_df = zdf.loc[zdf['CD'] == int(cd)]"
   ]
  },
  {
   "cell_type": "code",
   "execution_count": null,
   "metadata": {},
   "outputs": [],
   "source": [
    "import numpy as np\n",
    "\n",
    "grades = ['A','B','C','D','F']\n",
    "\n",
    "columns = list(rank_df)\n",
    "for i in columns:\n",
    "    nm = rank_df[i].name\n",
    "    if nm != 'State' and nm != 'CD':\n",
    "        s = rank_df[i]\n",
    "        value = s[s.index[0]]\n",
    "        grade = 'None'\n",
    "        if np.issubdtype(rank_df[i].dtype, np.number):\n",
    "            value = int(value/0.2)\n",
    "            grade = grades[value]\n",
    "        print('{} - Grade for \"fairness\" in the district is {} ({} percentile nationally)'.format(\n",
    "            nm, grade, int(s[s.index[0]]*100)))\n"
   ]
  },
  {
   "cell_type": "code",
   "execution_count": null,
   "metadata": {},
   "outputs": [],
   "source": []
  }
 ],
 "metadata": {
  "kernelspec": {
   "display_name": "Python 3",
   "language": "python",
   "name": "python3"
  },
  "language_info": {
   "codemirror_mode": {
    "name": "ipython",
    "version": 3
   },
   "file_extension": ".py",
   "mimetype": "text/x-python",
   "name": "python",
   "nbconvert_exporter": "python",
   "pygments_lexer": "ipython3",
   "version": "3.8.5"
  }
 },
 "nbformat": 4,
 "nbformat_minor": 4
}
